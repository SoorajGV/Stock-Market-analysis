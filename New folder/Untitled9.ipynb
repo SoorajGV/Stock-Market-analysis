{
 "cells": [
  {
   "cell_type": "code",
   "execution_count": 1,
   "id": "4a66fb5f",
   "metadata": {},
   "outputs": [
    {
     "name": "stdout",
     "output_type": "stream",
     "text": [
      "Buy signals:\n",
      "          Date   Open    High         Low       Close   Adj Close   Volume\n",
      "77  2023-03-02  426.0  426.25  419.549988  420.450012  419.143677  5661103\n",
      "\n",
      "Sell signals:\n",
      "           Date        Open        High         Low       Close   Adj Close  \\\n",
      "51   2023-01-24  410.000000  424.000000  410.000000  422.149994  420.838379   \n",
      "100  2023-04-10  452.049988  473.299988  452.000000  461.299988  459.866730   \n",
      "101  2023-04-11  463.750000  463.750000  455.799988  458.700012  457.274841   \n",
      "102  2023-04-12  459.350006  468.600006  458.200012  465.500000  464.053680   \n",
      "\n",
      "       Volume  \n",
      "51   30197475  \n",
      "100  50462653  \n",
      "101  14495222  \n",
      "102  13552440  \n"
     ]
    }
   ],
   "source": [
    "import pandas as pd\n",
    "import numpy as np\n",
    "\n",
    "def calculate_rsi(data, window=14):\n",
    "    delta = data.diff()\n",
    "    gain = np.where(delta > 0, delta, 0)\n",
    "    loss = np.where(delta < 0, -delta, 0)\n",
    "    avg_gain = pd.Series(gain).rolling(window=window, min_periods=1).mean()\n",
    "    avg_loss = pd.Series(loss).rolling(window=window, min_periods=1).mean()\n",
    "    rs = avg_gain / avg_loss\n",
    "    rsi = 100 - (100 / (1 + rs))\n",
    "    return rsi\n",
    "\n",
    "def generate_signals(data):\n",
    "    rsi = calculate_rsi(data['Close'])\n",
    "    fast_ma = data['Close'].rolling(window=10).mean()\n",
    "    slow_ma = data['Close'].rolling(window=50).mean()\n",
    "\n",
    "    buy_signal = (fast_ma > slow_ma) & (rsi < 30)\n",
    "    sell_signal = (fast_ma < slow_ma) & (rsi > 70)\n",
    "\n",
    "    return buy_signal, sell_signal\n",
    "\n",
    "# Example usage\n",
    "data = pd.read_csv('TATAMOTORS.NS.csv')  # Replace with your stock data\n",
    "buy, sell = generate_signals(data)\n",
    "\n",
    "print(\"Buy signals:\")\n",
    "print(data[buy])\n",
    "print(\"\\nSell signals:\")\n",
    "print(data[sell])\n"
   ]
  },
  {
   "cell_type": "code",
   "execution_count": null,
   "id": "4499ba6b",
   "metadata": {},
   "outputs": [],
   "source": []
  }
 ],
 "metadata": {
  "kernelspec": {
   "display_name": "Python 3 (ipykernel)",
   "language": "python",
   "name": "python3"
  },
  "language_info": {
   "codemirror_mode": {
    "name": "ipython",
    "version": 3
   },
   "file_extension": ".py",
   "mimetype": "text/x-python",
   "name": "python",
   "nbconvert_exporter": "python",
   "pygments_lexer": "ipython3",
   "version": "3.11.5"
  }
 },
 "nbformat": 4,
 "nbformat_minor": 5
}
